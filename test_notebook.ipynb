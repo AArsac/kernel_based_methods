{
 "cells": [
  {
   "cell_type": "code",
   "execution_count": 2,
   "metadata": {},
   "outputs": [],
   "source": [
    "import numpy as np\n",
    "import os"
   ]
  },
  {
   "cell_type": "markdown",
   "metadata": {},
   "source": [
    "## test for dependent time series\n",
    "\n",
    "$X_t = 0.2 \\cdot X_{t-1} + 0.1\\cdot \\epsilon_t^x$ \\\n",
    "$Y_t = 0.4 \\cdot Y_{t-1} + f_y(X_t) + 0.21 \\cdot \\epsilon_t^y$\n",
    "\n",
    "here $f_y$ randomly selected in $[ \\mid \\cdot \\mid, \\tanh, \\sin, (\\cdot)^2  ]$"
   ]
  },
  {
   "cell_type": "code",
   "execution_count": null,
   "metadata": {},
   "outputs": [],
   "source": [
    "dependence_type = 'direct_dependence'\n",
    "\n",
    "n = 500\n",
    "\n",
    "# Define the base directory for results\n",
    "RESULTS_DIR = f'results/{dependence_type}/{dependence_type}_sample_size_{n}/'\n"
   ]
  },
  {
   "cell_type": "code",
   "execution_count": null,
   "metadata": {},
   "outputs": [],
   "source": [
    "# Load HSIC results\n",
    "hsic_data = np.load(os.path.join(RESULTS_DIR, 'hsic_results.npz'))\n",
    "hsic_pval = hsic_data['pval']\n",
    "hsic_val = hsic_data['val']\n",
    "\n",
    "# Load Shift test results\n",
    "shift_data = np.load(os.path.join(RESULTS_DIR, 'shift_results.npz'))\n",
    "shift_pval = shift_data['pval']\n",
    "shift_val = shift_data['val']\n",
    "\n",
    "# Load Parametric Shift test results\n",
    "param_shift_data = np.load(os.path.join(RESULTS_DIR, 'parametric_shift_results.npz'))\n",
    "param_shift_pval = param_shift_data['pval']\n",
    "param_shift_val = param_shift_data['val']\n",
    "\n",
    "# Load CMI test results\n",
    "cmi_data = np.load(os.path.join(RESULTS_DIR, 'cmi_results.npz'))\n",
    "cmi_pval = cmi_data['pval']\n",
    "cmi_val = cmi_data['val']\n"
   ]
  },
  {
   "cell_type": "code",
   "execution_count": null,
   "metadata": {},
   "outputs": [],
   "source": [
    "print(hsic_pval,'\\n')\n",
    "print(shift_pval,'\\n')\n",
    "print(param_shift_pval,'\\n')\n",
    "print(cmi_pval,'\\n')"
   ]
  },
  {
   "cell_type": "markdown",
   "metadata": {},
   "source": [
    "## Test for independent time series\n",
    "\n",
    "$X_t = 0.2 \\cdot X_{t-1} + 0.1\\cdot \\epsilon_t^x$ \\\n",
    "$Y_t = 0.4 \\cdot Y_{t-1} + 0.21 \\cdot \\epsilon_t^y$"
   ]
  },
  {
   "cell_type": "code",
   "execution_count": 3,
   "metadata": {},
   "outputs": [
    {
     "name": "stdout",
     "output_type": "stream",
     "text": [
      "[0.79840319 0.70858283 0.16566866 0.18562874 0.50898204 0.00798403\n",
      " 0.00399202 0.47105788 0.04590818 0.03393214] \n",
      "\n",
      "[0.78356713 0.74497992 0.21042084 0.16633267 0.52905812 0.02204409\n",
      " 0.01803607 0.51703407 0.04008016 0.05210421] \n",
      "\n",
      "[0.77510654 0.74504272 0.13712889 0.13927874 0.52392961 0.008886\n",
      " 0.00094578 0.48636129 0.01237469 0.03671909] \n",
      "\n",
      "[0.692 0.685 0.246 0.937 0.83  0.101 0.035 0.653 0.824 0.525] \n",
      "\n"
     ]
    }
   ],
   "source": [
    "dependence_type = 'independence'\n",
    "\n",
    "n = 500\n",
    "\n",
    "# Define the base directory for results\n",
    "RESULTS_DIR = f'results/{dependence_type}/{dependence_type}_sample_size_{n}/'\n",
    "\n",
    "# Load HSIC results\n",
    "hsic_data = np.load(os.path.join(RESULTS_DIR, 'hsic_results.npz'))\n",
    "hsic_pval = hsic_data['pval']\n",
    "hsic_val = hsic_data['val']\n",
    "\n",
    "# Load Shift test results\n",
    "shift_data = np.load(os.path.join(RESULTS_DIR, 'shift_results.npz'))\n",
    "shift_pval = shift_data['pval']\n",
    "shift_val = shift_data['val']\n",
    "\n",
    "# Load Parametric Shift test results\n",
    "param_shift_data = np.load(os.path.join(RESULTS_DIR, 'parametric_shift_results.npz'))\n",
    "param_shift_pval = param_shift_data['pval']\n",
    "param_shift_val = param_shift_data['val']\n",
    "\n",
    "# Load CMI test results\n",
    "cmi_data = np.load(os.path.join(RESULTS_DIR, 'cmi_results.npz'))\n",
    "cmi_pval = cmi_data['pval']\n",
    "cmi_val = cmi_data['val']\n",
    "\n",
    "print(hsic_pval,'\\n')\n",
    "print(shift_pval,'\\n')\n",
    "print(param_shift_pval,'\\n')\n",
    "print(cmi_pval,'\\n')\n"
   ]
  },
  {
   "cell_type": "markdown",
   "metadata": {},
   "source": [
    "## Test for independent time series\n",
    "\n",
    "$X_t = 0.7 \\cdot X_{t-1} + 0.1\\cdot \\epsilon_t^x$ \\\n",
    "$Y_t = 0.64 \\cdot Y_{t-1} + 0.21 \\cdot \\epsilon_t^y$"
   ]
  },
  {
   "cell_type": "code",
   "execution_count": 4,
   "metadata": {},
   "outputs": [
    {
     "name": "stdout",
     "output_type": "stream",
     "text": [
      "[0.00199601 0.03792415 0.48702595 0.0738523  0.20558882 0.71457086\n",
      " 0.84431138 0.10578842 0.59481038 0.30339321] \n",
      "\n",
      "[0.04029304 0.16423358 0.61608775 0.27787934 0.3974359  0.84249084\n",
      " 0.93601463 0.35164835 0.72394881 0.48080439] \n",
      "\n",
      "[0.00292973 0.12781605 0.69035014 0.22374204 0.35514413 0.87005275\n",
      " 0.93792178 0.29437027 0.72520257 0.42263193] \n",
      "\n",
      "[0.381 0.299 0.51  0.311 0.432 0.274 0.779 0.218 0.244 0.077] \n",
      "\n"
     ]
    }
   ],
   "source": [
    "dependence_type = 'independence'\n",
    "\n",
    "n = 700\n",
    "\n",
    "# Define the base directory for results\n",
    "RESULTS_DIR = f'results/{dependence_type}/{dependence_type}_sample_size_{n}/'\n",
    "\n",
    "# Load HSIC results\n",
    "hsic_data = np.load(os.path.join(RESULTS_DIR, 'hsic_results.npz'))\n",
    "hsic_pval = hsic_data['pval']\n",
    "hsic_val = hsic_data['val']\n",
    "\n",
    "# Load Shift test results\n",
    "shift_data = np.load(os.path.join(RESULTS_DIR, 'shift_results.npz'))\n",
    "shift_pval = shift_data['pval']\n",
    "shift_val = shift_data['val']\n",
    "\n",
    "# Load Parametric Shift test results\n",
    "param_shift_data = np.load(os.path.join(RESULTS_DIR, 'parametric_shift_results.npz'))\n",
    "param_shift_pval = param_shift_data['pval']\n",
    "param_shift_val = param_shift_data['val']\n",
    "\n",
    "# Load CMI test results\n",
    "cmi_data = np.load(os.path.join(RESULTS_DIR, 'cmi_results.npz'))\n",
    "cmi_pval = cmi_data['pval']\n",
    "cmi_val = cmi_data['val']\n",
    "\n",
    "print(hsic_pval,'\\n')\n",
    "print(shift_pval,'\\n')\n",
    "print(param_shift_pval,'\\n')\n",
    "print(cmi_pval,'\\n')\n"
   ]
  },
  {
   "cell_type": "markdown",
   "metadata": {},
   "source": [
    "# TEST GAMMA APPROXIMATION TEST"
   ]
  },
  {
   "cell_type": "code",
   "execution_count": 5,
   "metadata": {},
   "outputs": [
    {
     "name": "stdout",
     "output_type": "stream",
     "text": [
      "pval =  nan  and test statistic value = nan\n"
     ]
    },
    {
     "name": "stderr",
     "output_type": "stream",
     "text": [
      "C:\\users\\aa270673\\Documents\\Code\\kernel_based_tests\\space2\\lib\\site-packages\\numpy\\_core\\fromnumeric.py:3596: RuntimeWarning: Mean of empty slice.\n",
      "  return _methods._mean(a, axis=axis, dtype=dtype,\n",
      "C:\\users\\aa270673\\Documents\\Code\\kernel_based_tests\\space2\\lib\\site-packages\\numpy\\_core\\_methods.py:138: RuntimeWarning: invalid value encountered in scalar divide\n",
      "  ret = ret.dtype.type(ret / rcount)\n"
     ]
    }
   ],
   "source": [
    "from src.tests.gammatest import gamma_test\n",
    "\n",
    "#####################\n",
    "##  SIMULATE DATA  ##\n",
    "#####################\n",
    "l = 1\n",
    "L = np.random.choice(np.arange(1, l + 1), 1)\n",
    "Theta = np.random.uniform(0, 2 * np.pi, 1)\n",
    "epsilon_1 = np.random.normal(0, 1, 1)\n",
    "epsilon_2 = np.random.normal(0, 1, 1)\n",
    "\n",
    "# Simulate X and Y\n",
    "X = L * np.cos(Theta) + epsilon_1 / 4\n",
    "Y = L * np.sin(Theta) + epsilon_2 / 4\n",
    "\n",
    "\n",
    "res = gamma_test(X, Y)\n",
    "\n",
    "print('pval = ', res['pval'] ,' and test statistic value =', res['test_statistic'] )"
   ]
  }
 ],
 "metadata": {
  "kernelspec": {
   "display_name": "Python 3 (ipykernel)",
   "language": "python",
   "name": "python3"
  },
  "language_info": {
   "codemirror_mode": {
    "name": "ipython",
    "version": 3
   },
   "file_extension": ".py",
   "mimetype": "text/x-python",
   "name": "python",
   "nbconvert_exporter": "python",
   "pygments_lexer": "ipython3",
   "version": "3.9.13"
  }
 },
 "nbformat": 4,
 "nbformat_minor": 4
}
